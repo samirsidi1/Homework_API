{
 "cells": [
  {
   "cell_type": "code",
   "execution_count": 44,
   "metadata": {},
   "outputs": [],
   "source": [
    "import plaid\n",
    "import os\n",
    "import datetime\n",
    "import pandas as pd\n",
    "import json"
   ]
  },
  {
   "cell_type": "code",
   "execution_count": 2,
   "metadata": {},
   "outputs": [
    {
     "data": {
      "text/plain": [
       "str"
      ]
     },
     "execution_count": 2,
     "metadata": {},
     "output_type": "execute_result"
    }
   ],
   "source": [
    "type(os.getenv('PLAID_CLIENT_ID'))"
   ]
  },
  {
   "cell_type": "code",
   "execution_count": 3,
   "metadata": {},
   "outputs": [],
   "source": [
    "# Bring env variables into Python and store in variables\n",
    "PLAID_CLIENT_ID = os.getenv(\"PLAID_CLIENT_ID\")\n",
    "PLAID_PUBLIC_KEY = os.getenv(\"PLAID_PUBLIC_KEY\")\n",
    "PLAID_SBX_SECRET_KEY = os.getenv(\"PLAID_SBX_SECRET_KEY\")"
   ]
  },
  {
   "cell_type": "code",
   "execution_count": 4,
   "metadata": {},
   "outputs": [
    {
     "name": "stdout",
     "output_type": "stream",
     "text": [
      "24\n",
      "30\n",
      "30\n"
     ]
    }
   ],
   "source": [
    "# Confirm length of env variable is greater than zero\n",
    "print(len(PLAID_CLIENT_ID))\n",
    "print(len(PLAID_PUBLIC_KEY))\n",
    "print(len(PLAID_SBX_SECRET_KEY))"
   ]
  },
  {
   "cell_type": "code",
   "execution_count": 5,
   "metadata": {},
   "outputs": [],
   "source": [
    "client = plaid.Client(client_id=PLAID_CLIENT_ID, secret=PLAID_SBX_SECRET_KEY, public_key=PLAID_PUBLIC_KEY, environment='sandbox')"
   ]
  },
  {
   "cell_type": "code",
   "execution_count": 28,
   "metadata": {},
   "outputs": [],
   "source": [
    "# Select an institution for processing\n",
    "INSTITUTION_ID = \"ins_109512\"\n",
    "\n",
    "# Create public token to be exchanged for institution access token\n",
    "create_tkn_response = client.Sandbox.public_token.create(INSTITUTION_ID, ['transactions','income','assets'])\n",
    "\n",
    "# Exchange public token for access token\n",
    "exchange_response = client.Item.public_token.exchange(create_tkn_response['public_token'])\n",
    "\n",
    "# Store access token as variable\n",
    "access_token = exchange_response['access_token']"
   ]
  },
  {
   "cell_type": "code",
   "execution_count": null,
   "metadata": {},
   "outputs": [],
   "source": [
    "# Get accounts associated with institution\n",
    "client.Accounts.get(access_token)"
   ]
  },
  {
   "cell_type": "code",
   "execution_count": 29,
   "metadata": {},
   "outputs": [
    {
     "data": {
      "text/plain": [
       "{'institutions': [{'country_codes': ['US'],\n",
       "   'credentials': [{'label': 'Username', 'name': 'username', 'type': 'text'},\n",
       "    {'label': 'Password', 'name': 'password', 'type': 'password'}],\n",
       "   'has_mfa': True,\n",
       "   'input_spec': 'fixed',\n",
       "   'institution_id': 'ins_112060',\n",
       "   'mfa': ['code', 'list', 'questions', 'selections'],\n",
       "   'mfa_code_type': 'numeric',\n",
       "   'name': '1st Bank (Broadus, MT) - Personal',\n",
       "   'oauth': False,\n",
       "   'products': ['assets',\n",
       "    'auth',\n",
       "    'balance',\n",
       "    'transactions',\n",
       "    'income',\n",
       "    'identity'],\n",
       "   'routing_numbers': []},\n",
       "  {'country_codes': ['US'],\n",
       "   'credentials': [{'label': 'Username', 'name': 'username', 'type': 'text'},\n",
       "    {'label': 'Password', 'name': 'password', 'type': 'password'}],\n",
       "   'has_mfa': True,\n",
       "   'input_spec': 'fixed',\n",
       "   'institution_id': 'ins_112062',\n",
       "   'mfa': ['code', 'list', 'questions', 'selections'],\n",
       "   'mfa_code_type': 'numeric',\n",
       "   'name': '1st Constitution Bank - Personal',\n",
       "   'oauth': False,\n",
       "   'products': ['assets',\n",
       "    'auth',\n",
       "    'balance',\n",
       "    'transactions',\n",
       "    'income',\n",
       "    'identity'],\n",
       "   'routing_numbers': []}],\n",
       " 'request_id': 'WrHNMDwrO3M58Un',\n",
       " 'total': 11431}"
      ]
     },
     "execution_count": 29,
     "metadata": {},
     "output_type": "execute_result"
    }
   ],
   "source": [
    "# Create client object\n",
    "client = plaid.Client(client_id=PLAID_CLIENT_ID, secret=PLAID_SBX_SECRET_KEY, public_key=PLAID_PUBLIC_KEY, environment='sandbox')\n",
    "\n",
    "# Get institutions\n",
    "client.Institutions.get(2)"
   ]
  },
  {
   "cell_type": "code",
   "execution_count": 30,
   "metadata": {},
   "outputs": [],
   "source": [
    "# Extract Transactions with date range\n",
    "start_date = '{:%Y-%m-%d}'.format(datetime.datetime.now() + datetime.timedelta(-365))\n",
    "end_date = '{:%Y-%m-%d}'.format(datetime.datetime.now()) \n",
    "transactions_response = client.Transactions.get(access_token, start_date, end_date)\n",
    "\n",
    "# Iterate and parse JSON response\n",
    "#for transactions in transactions_response['transactions']:\n",
    "    #if transactions['name'] == 'INTRST PYMNT':\n",
    "       # print(json.dumps(transactions['amount'], indent=4, sort_keys=True))"
   ]
  },
  {
   "cell_type": "code",
   "execution_count": 19,
   "metadata": {},
   "outputs": [
    {
     "data": {
      "text/plain": [
       "{'account_id': 'M5kXpXe8K6I5ZeoNj41ncJZ6vamo3Ri9VgMW3',\n",
       " 'account_owner': None,\n",
       " 'amount': 500,\n",
       " 'authorized_date': None,\n",
       " 'category': ['Food and Drink', 'Restaurants'],\n",
       " 'category_id': '13005000',\n",
       " 'date': '2020-04-25',\n",
       " 'iso_currency_code': 'USD',\n",
       " 'location': {'address': None,\n",
       "  'city': None,\n",
       "  'country': None,\n",
       "  'lat': None,\n",
       "  'lon': None,\n",
       "  'postal_code': None,\n",
       "  'region': None,\n",
       "  'store_number': None},\n",
       " 'name': 'Tectra Inc',\n",
       " 'payment_channel': 'in store',\n",
       " 'payment_meta': {'by_order_of': None,\n",
       "  'payee': None,\n",
       "  'payer': None,\n",
       "  'payment_method': None,\n",
       "  'payment_processor': None,\n",
       "  'ppd_id': None,\n",
       "  'reason': None,\n",
       "  'reference_number': None},\n",
       " 'pending': False,\n",
       " 'pending_transaction_id': None,\n",
       " 'transaction_code': None,\n",
       " 'transaction_id': 'jlozjzMW8NTANKkD3xZBCMgB6G4gkec1qgX7G',\n",
       " 'transaction_type': 'place',\n",
       " 'unofficial_currency_code': None}"
      ]
     },
     "execution_count": 19,
     "metadata": {},
     "output_type": "execute_result"
    }
   ],
   "source": [
    "transactions_response['transactions'][0]"
   ]
  },
  {
   "cell_type": "code",
   "execution_count": 20,
   "metadata": {},
   "outputs": [
    {
     "data": {
      "text/plain": [
       "'Tectra Inc'"
      ]
     },
     "execution_count": 20,
     "metadata": {},
     "output_type": "execute_result"
    }
   ],
   "source": [
    "transactions_response['transactions'][0]['name']"
   ]
  },
  {
   "cell_type": "code",
   "execution_count": 36,
   "metadata": {},
   "outputs": [
    {
     "data": {
      "text/plain": [
       "'Food and Drink'"
      ]
     },
     "execution_count": 36,
     "metadata": {},
     "output_type": "execute_result"
    }
   ],
   "source": [
    "transactions_response['transactions'][0]['category'][0]"
   ]
  },
  {
   "cell_type": "code",
   "execution_count": 37,
   "metadata": {},
   "outputs": [],
   "source": [
    "# Create Lists\n",
    "transactions_date=[]\n",
    "transactions_name=[]\n",
    "transactions_amount=[]\n",
    "transactions_category=[]"
   ]
  },
  {
   "cell_type": "code",
   "execution_count": 38,
   "metadata": {},
   "outputs": [
    {
     "name": "stdout",
     "output_type": "stream",
     "text": [
      "[500, 2078.5, 500, 500, 25, 5.4, 5850, 1000, 78.5, -500, 12, 4.33, 89.4, -4.22, 500, 6.33, 500, 2078.5, 500, 500, 25, 5.4, 5850, 1000, 78.5, -500, 12, 4.33, 89.4, -4.22, 500, 6.33, 500, 2078.5, 500, 500, 25, 5.4, 5850, 1000, 78.5, -500, 12, 4.33, 89.4, -4.22, 500, 6.33, 500, 2078.5, 500, 500, 25, 5.4, 5850, 1000, 78.5, -500, 12, 4.33, 89.4, -4.22, 500, 6.33, 500, 2078.5, 500, 500, 25, 5.4, 5850, 1000, 78.5, -500, 12, 4.33, 89.4, -4.22, 500, 6.33, 500, 2078.5, 500, 500, 25, 5.4, 5850, 1000, 78.5, -500, 12, 4.33, 89.4, -4.22, 500, 6.33, 500, 2078.5, 500, 500]\n"
     ]
    }
   ],
   "source": [
    "for transactions in transactions_response['transactions']:\n",
    "    transactions_amount.append((transactions['amount']))\n",
    "print(transactions_amount)"
   ]
  },
  {
   "cell_type": "code",
   "execution_count": 40,
   "metadata": {},
   "outputs": [
    {
     "name": "stdout",
     "output_type": "stream",
     "text": [
      "['Tectra Inc', 'AUTOMATIC PAYMENT - THANK', 'KFC', 'Madison Bicycle Shop', 'CREDIT CARD 3333 PAYMENT *//', 'Uber', 'ACH Electronic CreditGUSTO PAY 123456', 'CD DEPOSIT .INITIAL.', 'Touchstone Climbing', 'United Airlines', \"McDonald's\", 'Starbucks', 'SparkFun', 'INTRST PYMNT', 'United Airlines', 'Uber', 'Tectra Inc', 'AUTOMATIC PAYMENT - THANK', 'KFC', 'Madison Bicycle Shop', 'CREDIT CARD 3333 PAYMENT *//', 'Uber', 'ACH Electronic CreditGUSTO PAY 123456', 'CD DEPOSIT .INITIAL.', 'Touchstone Climbing', 'United Airlines', \"McDonald's\", 'Starbucks', 'SparkFun', 'INTRST PYMNT', 'United Airlines', 'Uber', 'Tectra Inc', 'AUTOMATIC PAYMENT - THANK', 'KFC', 'Madison Bicycle Shop', 'CREDIT CARD 3333 PAYMENT *//', 'Uber', 'ACH Electronic CreditGUSTO PAY 123456', 'CD DEPOSIT .INITIAL.', 'Touchstone Climbing', 'United Airlines', \"McDonald's\", 'Starbucks', 'SparkFun', 'INTRST PYMNT', 'United Airlines', 'Uber', 'Tectra Inc', 'AUTOMATIC PAYMENT - THANK', 'KFC', 'Madison Bicycle Shop', 'CREDIT CARD 3333 PAYMENT *//', 'Uber', 'ACH Electronic CreditGUSTO PAY 123456', 'CD DEPOSIT .INITIAL.', 'Touchstone Climbing', 'United Airlines', \"McDonald's\", 'Starbucks', 'SparkFun', 'INTRST PYMNT', 'United Airlines', 'Uber', 'Tectra Inc', 'AUTOMATIC PAYMENT - THANK', 'KFC', 'Madison Bicycle Shop', 'CREDIT CARD 3333 PAYMENT *//', 'Uber', 'ACH Electronic CreditGUSTO PAY 123456', 'CD DEPOSIT .INITIAL.', 'Touchstone Climbing', 'United Airlines', \"McDonald's\", 'Starbucks', 'SparkFun', 'INTRST PYMNT', 'United Airlines', 'Uber', 'Tectra Inc', 'AUTOMATIC PAYMENT - THANK', 'KFC', 'Madison Bicycle Shop', 'CREDIT CARD 3333 PAYMENT *//', 'Uber', 'ACH Electronic CreditGUSTO PAY 123456', 'CD DEPOSIT .INITIAL.', 'Touchstone Climbing', 'United Airlines', \"McDonald's\", 'Starbucks', 'SparkFun', 'INTRST PYMNT', 'United Airlines', 'Uber', 'Tectra Inc', 'AUTOMATIC PAYMENT - THANK', 'KFC', 'Madison Bicycle Shop']\n"
     ]
    }
   ],
   "source": [
    "for transactions in transactions_response['transactions']:\n",
    "    transactions_name.append((transactions['name']))\n",
    "print(transactions_name)"
   ]
  },
  {
   "cell_type": "code",
   "execution_count": 41,
   "metadata": {},
   "outputs": [
    {
     "name": "stdout",
     "output_type": "stream",
     "text": [
      "['2020-04-25', '2020-04-24', '2020-04-24', '2020-04-24', '2020-04-15', '2020-04-15', '2020-04-14', '2020-04-14', '2020-04-13', '2020-04-13', '2020-04-12', '2020-04-12', '2020-04-11', '2020-04-10', '2020-03-31', '2020-03-29', '2020-03-26', '2020-03-25', '2020-03-25', '2020-03-25', '2020-03-16', '2020-03-16', '2020-03-15', '2020-03-15', '2020-03-14', '2020-03-14', '2020-03-13', '2020-03-13', '2020-03-12', '2020-03-11', '2020-03-01', '2020-02-28', '2020-02-25', '2020-02-24', '2020-02-24', '2020-02-24', '2020-02-15', '2020-02-15', '2020-02-14', '2020-02-14', '2020-02-13', '2020-02-13', '2020-02-12', '2020-02-12', '2020-02-11', '2020-02-10', '2020-01-31', '2020-01-29', '2020-01-26', '2020-01-25', '2020-01-25', '2020-01-25', '2020-01-16', '2020-01-16', '2020-01-15', '2020-01-15', '2020-01-14', '2020-01-14', '2020-01-13', '2020-01-13', '2020-01-12', '2020-01-11', '2020-01-01', '2019-12-30', '2019-12-27', '2019-12-26', '2019-12-26', '2019-12-26', '2019-12-17', '2019-12-17', '2019-12-16', '2019-12-16', '2019-12-15', '2019-12-15', '2019-12-14', '2019-12-14', '2019-12-13', '2019-12-12', '2019-12-02', '2019-11-30', '2019-11-27', '2019-11-26', '2019-11-26', '2019-11-26', '2019-11-17', '2019-11-17', '2019-11-16', '2019-11-16', '2019-11-15', '2019-11-15', '2019-11-14', '2019-11-14', '2019-11-13', '2019-11-12', '2019-11-02', '2019-10-31', '2019-10-28', '2019-10-27', '2019-10-27', '2019-10-27']\n"
     ]
    }
   ],
   "source": [
    "for transactions in transactions_response['transactions']:\n",
    "    transactions_date.append((transactions['date']))\n",
    "print(transactions_date)"
   ]
  },
  {
   "cell_type": "code",
   "execution_count": 42,
   "metadata": {},
   "outputs": [
    {
     "name": "stdout",
     "output_type": "stream",
     "text": [
      "[['Food and Drink', 'Restaurants'], ['Payment'], ['Food and Drink', 'Restaurants', 'Fast Food'], ['Shops', 'Sporting Goods'], ['Payment', 'Credit Card'], ['Travel', 'Taxi'], ['Transfer', 'Debit'], ['Transfer', 'Deposit'], ['Recreation', 'Gyms and Fitness Centers'], ['Travel', 'Airlines and Aviation Services'], ['Food and Drink', 'Restaurants', 'Fast Food'], ['Food and Drink', 'Restaurants', 'Coffee Shop'], ['Food and Drink', 'Restaurants'], ['Transfer', 'Credit'], ['Travel', 'Airlines and Aviation Services'], ['Travel', 'Taxi'], ['Food and Drink', 'Restaurants'], ['Payment'], ['Food and Drink', 'Restaurants', 'Fast Food'], ['Shops', 'Sporting Goods'], ['Payment', 'Credit Card'], ['Travel', 'Taxi'], ['Transfer', 'Debit'], ['Transfer', 'Deposit'], ['Recreation', 'Gyms and Fitness Centers'], ['Travel', 'Airlines and Aviation Services'], ['Food and Drink', 'Restaurants', 'Fast Food'], ['Food and Drink', 'Restaurants', 'Coffee Shop'], ['Food and Drink', 'Restaurants'], ['Transfer', 'Credit'], ['Travel', 'Airlines and Aviation Services'], ['Travel', 'Taxi'], ['Food and Drink', 'Restaurants'], ['Payment'], ['Food and Drink', 'Restaurants', 'Fast Food'], ['Shops', 'Sporting Goods'], ['Payment', 'Credit Card'], ['Travel', 'Taxi'], ['Transfer', 'Debit'], ['Transfer', 'Deposit'], ['Recreation', 'Gyms and Fitness Centers'], ['Travel', 'Airlines and Aviation Services'], ['Food and Drink', 'Restaurants', 'Fast Food'], ['Food and Drink', 'Restaurants', 'Coffee Shop'], ['Food and Drink', 'Restaurants'], ['Transfer', 'Credit'], ['Travel', 'Airlines and Aviation Services'], ['Travel', 'Taxi'], ['Food and Drink', 'Restaurants'], ['Payment'], ['Food and Drink', 'Restaurants', 'Fast Food'], ['Shops', 'Sporting Goods'], ['Payment', 'Credit Card'], ['Travel', 'Taxi'], ['Transfer', 'Debit'], ['Transfer', 'Deposit'], ['Recreation', 'Gyms and Fitness Centers'], ['Travel', 'Airlines and Aviation Services'], ['Food and Drink', 'Restaurants', 'Fast Food'], ['Food and Drink', 'Restaurants', 'Coffee Shop'], ['Food and Drink', 'Restaurants'], ['Transfer', 'Credit'], ['Travel', 'Airlines and Aviation Services'], ['Travel', 'Taxi'], ['Food and Drink', 'Restaurants'], ['Payment'], ['Food and Drink', 'Restaurants', 'Fast Food'], ['Shops', 'Sporting Goods'], ['Payment', 'Credit Card'], ['Travel', 'Taxi'], ['Transfer', 'Debit'], ['Transfer', 'Deposit'], ['Recreation', 'Gyms and Fitness Centers'], ['Travel', 'Airlines and Aviation Services'], ['Food and Drink', 'Restaurants', 'Fast Food'], ['Food and Drink', 'Restaurants', 'Coffee Shop'], ['Food and Drink', 'Restaurants'], ['Transfer', 'Credit'], ['Travel', 'Airlines and Aviation Services'], ['Travel', 'Taxi'], ['Food and Drink', 'Restaurants'], ['Payment'], ['Food and Drink', 'Restaurants', 'Fast Food'], ['Shops', 'Sporting Goods'], ['Payment', 'Credit Card'], ['Travel', 'Taxi'], ['Transfer', 'Debit'], ['Transfer', 'Deposit'], ['Recreation', 'Gyms and Fitness Centers'], ['Travel', 'Airlines and Aviation Services'], ['Food and Drink', 'Restaurants', 'Fast Food'], ['Food and Drink', 'Restaurants', 'Coffee Shop'], ['Food and Drink', 'Restaurants'], ['Transfer', 'Credit'], ['Travel', 'Airlines and Aviation Services'], ['Travel', 'Taxi'], ['Food and Drink', 'Restaurants'], ['Payment'], ['Food and Drink', 'Restaurants', 'Fast Food'], ['Shops', 'Sporting Goods']]\n"
     ]
    }
   ],
   "source": [
    "for transactions in transactions_response['transactions']:\n",
    "    transactions_category.append((transactions['category']))\n",
    "print(transactions_category)\n"
   ]
  },
  {
   "cell_type": "code",
   "execution_count": 57,
   "metadata": {},
   "outputs": [],
   "source": [
    "df_amount = pd.DataFrame(transactions_amount)"
   ]
  },
  {
   "cell_type": "code",
   "execution_count": 62,
   "metadata": {},
   "outputs": [],
   "source": [
    "df_name = pd.DataFrame(transactions_name)"
   ]
  },
  {
   "cell_type": "code",
   "execution_count": 93,
   "metadata": {},
   "outputs": [],
   "source": [
    "df_category = pd.DataFrame(transactions_category)[0]"
   ]
  },
  {
   "cell_type": "code",
   "execution_count": 94,
   "metadata": {},
   "outputs": [],
   "source": [
    "df_date = pd.DataFrame(transactions_date)"
   ]
  },
  {
   "cell_type": "code",
   "execution_count": 98,
   "metadata": {},
   "outputs": [],
   "source": [
    "# Concatenate data\n",
    "plaid_df = (\n",
    "    pd.concat((df_date,df_amount,df_name, df_category), axis=1).dropna()\n",
    ")"
   ]
  },
  {
   "cell_type": "code",
   "execution_count": 99,
   "metadata": {},
   "outputs": [
    {
     "data": {
      "text/html": [
       "<div>\n",
       "<style scoped>\n",
       "    .dataframe tbody tr th:only-of-type {\n",
       "        vertical-align: middle;\n",
       "    }\n",
       "\n",
       "    .dataframe tbody tr th {\n",
       "        vertical-align: top;\n",
       "    }\n",
       "\n",
       "    .dataframe thead th {\n",
       "        text-align: right;\n",
       "    }\n",
       "</style>\n",
       "<table border=\"1\" class=\"dataframe\">\n",
       "  <thead>\n",
       "    <tr style=\"text-align: right;\">\n",
       "      <th></th>\n",
       "      <th>0</th>\n",
       "      <th>0</th>\n",
       "      <th>0</th>\n",
       "      <th>0</th>\n",
       "    </tr>\n",
       "  </thead>\n",
       "  <tbody>\n",
       "    <tr>\n",
       "      <th>0</th>\n",
       "      <td>2020-04-25</td>\n",
       "      <td>500.0</td>\n",
       "      <td>Tectra Inc</td>\n",
       "      <td>Food and Drink</td>\n",
       "    </tr>\n",
       "    <tr>\n",
       "      <th>1</th>\n",
       "      <td>2020-04-24</td>\n",
       "      <td>2078.5</td>\n",
       "      <td>AUTOMATIC PAYMENT - THANK</td>\n",
       "      <td>Payment</td>\n",
       "    </tr>\n",
       "    <tr>\n",
       "      <th>2</th>\n",
       "      <td>2020-04-24</td>\n",
       "      <td>500.0</td>\n",
       "      <td>KFC</td>\n",
       "      <td>Food and Drink</td>\n",
       "    </tr>\n",
       "    <tr>\n",
       "      <th>3</th>\n",
       "      <td>2020-04-24</td>\n",
       "      <td>500.0</td>\n",
       "      <td>Madison Bicycle Shop</td>\n",
       "      <td>Shops</td>\n",
       "    </tr>\n",
       "    <tr>\n",
       "      <th>4</th>\n",
       "      <td>2020-04-15</td>\n",
       "      <td>25.0</td>\n",
       "      <td>CREDIT CARD 3333 PAYMENT *//</td>\n",
       "      <td>Payment</td>\n",
       "    </tr>\n",
       "  </tbody>\n",
       "</table>\n",
       "</div>"
      ],
      "text/plain": [
       "            0       0                             0               0\n",
       "0  2020-04-25   500.0                    Tectra Inc  Food and Drink\n",
       "1  2020-04-24  2078.5     AUTOMATIC PAYMENT - THANK         Payment\n",
       "2  2020-04-24   500.0                           KFC  Food and Drink\n",
       "3  2020-04-24   500.0          Madison Bicycle Shop           Shops\n",
       "4  2020-04-15    25.0  CREDIT CARD 3333 PAYMENT *//         Payment"
      ]
     },
     "execution_count": 99,
     "metadata": {},
     "output_type": "execute_result"
    }
   ],
   "source": [
    "plaid_df.head(5)"
   ]
  },
  {
   "cell_type": "code",
   "execution_count": null,
   "metadata": {},
   "outputs": [],
   "source": []
  },
  {
   "cell_type": "code",
   "execution_count": 101,
   "metadata": {},
   "outputs": [],
   "source": [
    "plaid_df.columns = ['Date','Amount','Name','Category']"
   ]
  },
  {
   "cell_type": "code",
   "execution_count": 102,
   "metadata": {},
   "outputs": [
    {
     "data": {
      "text/html": [
       "<div>\n",
       "<style scoped>\n",
       "    .dataframe tbody tr th:only-of-type {\n",
       "        vertical-align: middle;\n",
       "    }\n",
       "\n",
       "    .dataframe tbody tr th {\n",
       "        vertical-align: top;\n",
       "    }\n",
       "\n",
       "    .dataframe thead th {\n",
       "        text-align: right;\n",
       "    }\n",
       "</style>\n",
       "<table border=\"1\" class=\"dataframe\">\n",
       "  <thead>\n",
       "    <tr style=\"text-align: right;\">\n",
       "      <th></th>\n",
       "      <th>Date</th>\n",
       "      <th>Amount</th>\n",
       "      <th>Name</th>\n",
       "      <th>Category</th>\n",
       "    </tr>\n",
       "  </thead>\n",
       "  <tbody>\n",
       "    <tr>\n",
       "      <th>0</th>\n",
       "      <td>2020-04-25</td>\n",
       "      <td>500.0</td>\n",
       "      <td>Tectra Inc</td>\n",
       "      <td>Food and Drink</td>\n",
       "    </tr>\n",
       "    <tr>\n",
       "      <th>1</th>\n",
       "      <td>2020-04-24</td>\n",
       "      <td>2078.5</td>\n",
       "      <td>AUTOMATIC PAYMENT - THANK</td>\n",
       "      <td>Payment</td>\n",
       "    </tr>\n",
       "    <tr>\n",
       "      <th>2</th>\n",
       "      <td>2020-04-24</td>\n",
       "      <td>500.0</td>\n",
       "      <td>KFC</td>\n",
       "      <td>Food and Drink</td>\n",
       "    </tr>\n",
       "    <tr>\n",
       "      <th>3</th>\n",
       "      <td>2020-04-24</td>\n",
       "      <td>500.0</td>\n",
       "      <td>Madison Bicycle Shop</td>\n",
       "      <td>Shops</td>\n",
       "    </tr>\n",
       "    <tr>\n",
       "      <th>4</th>\n",
       "      <td>2020-04-15</td>\n",
       "      <td>25.0</td>\n",
       "      <td>CREDIT CARD 3333 PAYMENT *//</td>\n",
       "      <td>Payment</td>\n",
       "    </tr>\n",
       "  </tbody>\n",
       "</table>\n",
       "</div>"
      ],
      "text/plain": [
       "         Date  Amount                          Name        Category\n",
       "0  2020-04-25   500.0                    Tectra Inc  Food and Drink\n",
       "1  2020-04-24  2078.5     AUTOMATIC PAYMENT - THANK         Payment\n",
       "2  2020-04-24   500.0                           KFC  Food and Drink\n",
       "3  2020-04-24   500.0          Madison Bicycle Shop           Shops\n",
       "4  2020-04-15    25.0  CREDIT CARD 3333 PAYMENT *//         Payment"
      ]
     },
     "execution_count": 102,
     "metadata": {},
     "output_type": "execute_result"
    }
   ],
   "source": [
    "plaid_df.head(5)"
   ]
  },
  {
   "cell_type": "code",
   "execution_count": 181,
   "metadata": {},
   "outputs": [
    {
     "data": {
      "text/plain": [
       "Text(0.5, 1.0, 'Budget')"
      ]
     },
     "execution_count": 181,
     "metadata": {},
     "output_type": "execute_result"
    },
    {
     "data": {
      "image/png": "[encoded data removed]",
      "text/plain": [
       "<Figure size 432x288 with 1 Axes>"
      ]
     },
     "metadata": {},
     "output_type": "display_data"
    }
   ],
   "source": [
    "plaid_df.Category.value_counts().plot(kind='pie')\n",
    "plt.axis('equal')\n",
    "plt.title('Budget')"
   ]
  },
  {
   "cell_type": "code",
   "execution_count": null,
   "metadata": {},
   "outputs": [],
   "source": []
  },
  {
   "cell_type": "code",
   "execution_count": null,
   "metadata": {},
   "outputs": [],
   "source": [
    "# Retirement Planner"
   ]
  },
  {
   "cell_type": "code",
   "execution_count": 161,
   "metadata": {},
   "outputs": [],
   "source": [
    "# Import libraries and dependencies\n",
    "import numpy as np\n",
    "import pandas as pd\n",
    "import os\n",
    "from datetime import datetime, timedelta\n",
    "import matplotlib.pyplot as plt\n",
    "import alpaca_trade_api as tradeapi\n",
    "\n",
    "%matplotlib inline"
   ]
  },
  {
   "cell_type": "code",
   "execution_count": null,
   "metadata": {},
   "outputs": [],
   "source": []
  },
  {
   "cell_type": "code",
   "execution_count": 162,
   "metadata": {},
   "outputs": [],
   "source": [
    "# Set Alpaca API key and secret\n",
    "# Bring env variables into Python and store in variables\n",
    "from dotenv import load_dotenv\n",
    "load_dotenv()\n",
    "\n",
    "alpaca_api_key = os.getenv(\"ALPACA_API_KEY\")\n",
    "alpaca_secret_key = os.getenv(\"ALPACA_SECRET_KEY\")\n"
   ]
  },
  {
   "cell_type": "code",
   "execution_count": 163,
   "metadata": {},
   "outputs": [
    {
     "data": {
      "text/plain": [
       "str"
      ]
     },
     "execution_count": 163,
     "metadata": {},
     "output_type": "execute_result"
    }
   ],
   "source": [
    "type(os.getenv('ALPACA_API_KEY'))"
   ]
  },
  {
   "cell_type": "code",
   "execution_count": 164,
   "metadata": {},
   "outputs": [],
   "source": [
    "api = tradeapi.REST(alpaca_api_key, alpaca_secret_key, api_version='v2')"
   ]
  },
  {
   "cell_type": "code",
   "execution_count": 165,
   "metadata": {},
   "outputs": [
    {
     "data": {
      "text/html": [
       "<div>\n",
       "<style scoped>\n",
       "    .dataframe tbody tr th:only-of-type {\n",
       "        vertical-align: middle;\n",
       "    }\n",
       "\n",
       "    .dataframe tbody tr th {\n",
       "        vertical-align: top;\n",
       "    }\n",
       "\n",
       "    .dataframe thead tr th {\n",
       "        text-align: left;\n",
       "    }\n",
       "\n",
       "    .dataframe thead tr:last-of-type th {\n",
       "        text-align: right;\n",
       "    }\n",
       "</style>\n",
       "<table border=\"1\" class=\"dataframe\">\n",
       "  <thead>\n",
       "    <tr>\n",
       "      <th></th>\n",
       "      <th colspan=\"5\" halign=\"left\">AGG</th>\n",
       "      <th colspan=\"5\" halign=\"left\">SPY</th>\n",
       "    </tr>\n",
       "    <tr>\n",
       "      <th></th>\n",
       "      <th>open</th>\n",
       "      <th>high</th>\n",
       "      <th>low</th>\n",
       "      <th>close</th>\n",
       "      <th>volume</th>\n",
       "      <th>open</th>\n",
       "      <th>high</th>\n",
       "      <th>low</th>\n",
       "      <th>close</th>\n",
       "      <th>volume</th>\n",
       "    </tr>\n",
       "    <tr>\n",
       "      <th>time</th>\n",
       "      <th></th>\n",
       "      <th></th>\n",
       "      <th></th>\n",
       "      <th></th>\n",
       "      <th></th>\n",
       "      <th></th>\n",
       "      <th></th>\n",
       "      <th></th>\n",
       "      <th></th>\n",
       "      <th></th>\n",
       "    </tr>\n",
       "  </thead>\n",
       "  <tbody>\n",
       "    <tr>\n",
       "      <th>2019-12-02 00:00:00-05:00</th>\n",
       "      <td>112.31</td>\n",
       "      <td>112.5100</td>\n",
       "      <td>112.29</td>\n",
       "      <td>112.48</td>\n",
       "      <td>5731792</td>\n",
       "      <td>314.59</td>\n",
       "      <td>314.66</td>\n",
       "      <td>311.17</td>\n",
       "      <td>311.60</td>\n",
       "      <td>62704749</td>\n",
       "    </tr>\n",
       "    <tr>\n",
       "      <th>2019-12-03 00:00:00-05:00</th>\n",
       "      <td>112.80</td>\n",
       "      <td>113.1277</td>\n",
       "      <td>112.76</td>\n",
       "      <td>113.02</td>\n",
       "      <td>3547417</td>\n",
       "      <td>308.65</td>\n",
       "      <td>309.64</td>\n",
       "      <td>307.13</td>\n",
       "      <td>309.47</td>\n",
       "      <td>62363983</td>\n",
       "    </tr>\n",
       "    <tr>\n",
       "      <th>2019-12-04 00:00:00-05:00</th>\n",
       "      <td>112.87</td>\n",
       "      <td>112.9500</td>\n",
       "      <td>112.68</td>\n",
       "      <td>112.80</td>\n",
       "      <td>3547118</td>\n",
       "      <td>310.70</td>\n",
       "      <td>312.12</td>\n",
       "      <td>310.32</td>\n",
       "      <td>311.47</td>\n",
       "      <td>37810887</td>\n",
       "    </tr>\n",
       "    <tr>\n",
       "      <th>2019-12-05 00:00:00-05:00</th>\n",
       "      <td>112.58</td>\n",
       "      <td>112.7400</td>\n",
       "      <td>112.53</td>\n",
       "      <td>112.69</td>\n",
       "      <td>3052489</td>\n",
       "      <td>312.23</td>\n",
       "      <td>312.25</td>\n",
       "      <td>310.58</td>\n",
       "      <td>312.05</td>\n",
       "      <td>34436972</td>\n",
       "    </tr>\n",
       "    <tr>\n",
       "      <th>2019-12-06 00:00:00-05:00</th>\n",
       "      <td>112.47</td>\n",
       "      <td>112.6800</td>\n",
       "      <td>112.41</td>\n",
       "      <td>112.54</td>\n",
       "      <td>4065089</td>\n",
       "      <td>314.12</td>\n",
       "      <td>315.31</td>\n",
       "      <td>314.11</td>\n",
       "      <td>314.84</td>\n",
       "      <td>37930796</td>\n",
       "    </tr>\n",
       "  </tbody>\n",
       "</table>\n",
       "</div>"
      ],
      "text/plain": [
       "                              AGG                                        SPY  \\\n",
       "                             open      high     low   close   volume    open   \n",
       "time                                                                           \n",
       "2019-12-02 00:00:00-05:00  112.31  112.5100  112.29  112.48  5731792  314.59   \n",
       "2019-12-03 00:00:00-05:00  112.80  113.1277  112.76  113.02  3547417  308.65   \n",
       "2019-12-04 00:00:00-05:00  112.87  112.9500  112.68  112.80  3547118  310.70   \n",
       "2019-12-05 00:00:00-05:00  112.58  112.7400  112.53  112.69  3052489  312.23   \n",
       "2019-12-06 00:00:00-05:00  112.47  112.6800  112.41  112.54  4065089  314.12   \n",
       "\n",
       "                                                             \n",
       "                             high     low   close    volume  \n",
       "time                                                         \n",
       "2019-12-02 00:00:00-05:00  314.66  311.17  311.60  62704749  \n",
       "2019-12-03 00:00:00-05:00  309.64  307.13  309.47  62363983  \n",
       "2019-12-04 00:00:00-05:00  312.12  310.32  311.47  37810887  \n",
       "2019-12-05 00:00:00-05:00  312.25  310.58  312.05  34436972  \n",
       "2019-12-06 00:00:00-05:00  315.31  314.11  314.84  37930796  "
      ]
     },
     "execution_count": 165,
     "metadata": {},
     "output_type": "execute_result"
    }
   ],
   "source": [
    "# Set the list of tickers\n",
    "tickers = [\"SPY\", \"AGG\"]\n",
    "\n",
    "# Set timeframe to '1D'\n",
    "timeframe = '1D'\n",
    "\n",
    "# Set start and end datetimes of 1 year, between now and 365 days ago.\n",
    "end_date = datetime.now()\n",
    "start_date = end_date + timedelta(-365)\n",
    "\n",
    "# Get 1 year's worth of historical data for SPY and AGG\n",
    "df = api.get_barset(\n",
    "    tickers,\n",
    "    timeframe,\n",
    "    limit=None,\n",
    "    start=start_date,\n",
    "    end=end_date,\n",
    "    after=None,\n",
    "    until=None,\n",
    ").df\n",
    "\n",
    "df.head()"
   ]
  },
  {
   "cell_type": "code",
   "execution_count": 166,
   "metadata": {},
   "outputs": [
    {
     "data": {
      "text/html": [
       "<div>\n",
       "<style scoped>\n",
       "    .dataframe tbody tr th:only-of-type {\n",
       "        vertical-align: middle;\n",
       "    }\n",
       "\n",
       "    .dataframe tbody tr th {\n",
       "        vertical-align: top;\n",
       "    }\n",
       "\n",
       "    .dataframe thead tr th {\n",
       "        text-align: left;\n",
       "    }\n",
       "\n",
       "    .dataframe thead tr:last-of-type th {\n",
       "        text-align: right;\n",
       "    }\n",
       "</style>\n",
       "<table border=\"1\" class=\"dataframe\">\n",
       "  <thead>\n",
       "    <tr>\n",
       "      <th></th>\n",
       "      <th>AGG</th>\n",
       "      <th>SPY</th>\n",
       "    </tr>\n",
       "    <tr>\n",
       "      <th></th>\n",
       "      <th>close</th>\n",
       "      <th>close</th>\n",
       "    </tr>\n",
       "    <tr>\n",
       "      <th>time</th>\n",
       "      <th></th>\n",
       "      <th></th>\n",
       "    </tr>\n",
       "  </thead>\n",
       "  <tbody>\n",
       "    <tr>\n",
       "      <th>2019-12-02 00:00:00-05:00</th>\n",
       "      <td>112.48</td>\n",
       "      <td>311.60</td>\n",
       "    </tr>\n",
       "    <tr>\n",
       "      <th>2019-12-03 00:00:00-05:00</th>\n",
       "      <td>113.02</td>\n",
       "      <td>309.47</td>\n",
       "    </tr>\n",
       "    <tr>\n",
       "      <th>2019-12-04 00:00:00-05:00</th>\n",
       "      <td>112.80</td>\n",
       "      <td>311.47</td>\n",
       "    </tr>\n",
       "    <tr>\n",
       "      <th>2019-12-05 00:00:00-05:00</th>\n",
       "      <td>112.69</td>\n",
       "      <td>312.05</td>\n",
       "    </tr>\n",
       "    <tr>\n",
       "      <th>2019-12-06 00:00:00-05:00</th>\n",
       "      <td>112.54</td>\n",
       "      <td>314.84</td>\n",
       "    </tr>\n",
       "  </tbody>\n",
       "</table>\n",
       "</div>"
      ],
      "text/plain": [
       "                              AGG     SPY\n",
       "                            close   close\n",
       "time                                     \n",
       "2019-12-02 00:00:00-05:00  112.48  311.60\n",
       "2019-12-03 00:00:00-05:00  113.02  309.47\n",
       "2019-12-04 00:00:00-05:00  112.80  311.47\n",
       "2019-12-05 00:00:00-05:00  112.69  312.05\n",
       "2019-12-06 00:00:00-05:00  112.54  314.84"
      ]
     },
     "execution_count": 166,
     "metadata": {},
     "output_type": "execute_result"
    }
   ],
   "source": [
    "# Use the `drop` function with the `level` parameter to drop extra columns in the multi-index DataFrame\n",
    "df.drop(columns=['open', 'high', 'low', 'volume'], level=1, inplace=True)\n",
    "df.head()"
   ]
  },
  {
   "cell_type": "code",
   "execution_count": 167,
   "metadata": {},
   "outputs": [
    {
     "data": {
      "text/html": [
       "<div>\n",
       "<style scoped>\n",
       "    .dataframe tbody tr th:only-of-type {\n",
       "        vertical-align: middle;\n",
       "    }\n",
       "\n",
       "    .dataframe tbody tr th {\n",
       "        vertical-align: top;\n",
       "    }\n",
       "\n",
       "    .dataframe thead tr th {\n",
       "        text-align: left;\n",
       "    }\n",
       "\n",
       "    .dataframe thead tr:last-of-type th {\n",
       "        text-align: right;\n",
       "    }\n",
       "</style>\n",
       "<table border=\"1\" class=\"dataframe\">\n",
       "  <thead>\n",
       "    <tr>\n",
       "      <th></th>\n",
       "      <th>AGG</th>\n",
       "      <th>SPY</th>\n",
       "    </tr>\n",
       "    <tr>\n",
       "      <th></th>\n",
       "      <th>close</th>\n",
       "      <th>close</th>\n",
       "    </tr>\n",
       "    <tr>\n",
       "      <th>time</th>\n",
       "      <th></th>\n",
       "      <th></th>\n",
       "    </tr>\n",
       "  </thead>\n",
       "  <tbody>\n",
       "    <tr>\n",
       "      <th>2019-12-02 00:00:00-05:00</th>\n",
       "      <td>NaN</td>\n",
       "      <td>NaN</td>\n",
       "    </tr>\n",
       "    <tr>\n",
       "      <th>2019-12-03 00:00:00-05:00</th>\n",
       "      <td>0.004801</td>\n",
       "      <td>-0.006836</td>\n",
       "    </tr>\n",
       "    <tr>\n",
       "      <th>2019-12-04 00:00:00-05:00</th>\n",
       "      <td>-0.001947</td>\n",
       "      <td>0.006463</td>\n",
       "    </tr>\n",
       "    <tr>\n",
       "      <th>2019-12-05 00:00:00-05:00</th>\n",
       "      <td>-0.000975</td>\n",
       "      <td>0.001862</td>\n",
       "    </tr>\n",
       "    <tr>\n",
       "      <th>2019-12-06 00:00:00-05:00</th>\n",
       "      <td>-0.001331</td>\n",
       "      <td>0.008941</td>\n",
       "    </tr>\n",
       "  </tbody>\n",
       "</table>\n",
       "</div>"
      ],
      "text/plain": [
       "                                AGG       SPY\n",
       "                              close     close\n",
       "time                                         \n",
       "2019-12-02 00:00:00-05:00       NaN       NaN\n",
       "2019-12-03 00:00:00-05:00  0.004801 -0.006836\n",
       "2019-12-04 00:00:00-05:00 -0.001947  0.006463\n",
       "2019-12-05 00:00:00-05:00 -0.000975  0.001862\n",
       "2019-12-06 00:00:00-05:00 -0.001331  0.008941"
      ]
     },
     "execution_count": 167,
     "metadata": {},
     "output_type": "execute_result"
    }
   ],
   "source": [
    "# Use the `pct_change` function to calculate daily returns of `JNJ` and `MU`.\n",
    "daily_returns = df.pct_change()\n",
    "daily_returns.head()"
   ]
  },
  {
   "cell_type": "code",
   "execution_count": 168,
   "metadata": {},
   "outputs": [
    {
     "data": {
      "text/plain": [
       "0.00046424058478946055"
      ]
     },
     "execution_count": 168,
     "metadata": {},
     "output_type": "execute_result"
    }
   ],
   "source": [
    "# Use the `mean` function to calculate the mean of daily returns for `SPY` and `AGG`, respectively\n",
    "avg_daily_return_spy = daily_returns.mean()['SPY']['close']\n",
    "avg_daily_return_agg = daily_returns.mean()['AGG']['close']\n",
    "avg_daily_return_agg"
   ]
  },
  {
   "cell_type": "code",
   "execution_count": 169,
   "metadata": {},
   "outputs": [
    {
     "data": {
      "text/plain": [
       "-0.0005024303966304052"
      ]
     },
     "execution_count": 169,
     "metadata": {},
     "output_type": "execute_result"
    }
   ],
   "source": [
    "avg_daily_return_spy"
   ]
  },
  {
   "cell_type": "code",
   "execution_count": 170,
   "metadata": {},
   "outputs": [
    {
     "data": {
      "text/plain": [
       "0.008485943680615756"
      ]
     },
     "execution_count": 170,
     "metadata": {},
     "output_type": "execute_result"
    }
   ],
   "source": [
    "# Use the `std` function to calculate the standard deviation of daily returns for `SPY` and `AGG`, respectively\n",
    "std_dev_daily_return_spy = daily_returns.std()['SPY']['close']\n",
    "std_dev_daily_return_agg = daily_returns.std()['AGG']['close']\n",
    "std_dev_daily_return_agg"
   ]
  },
  {
   "cell_type": "code",
   "execution_count": 171,
   "metadata": {},
   "outputs": [
    {
     "data": {
      "text/html": [
       "<div>\n",
       "<style scoped>\n",
       "    .dataframe tbody tr th:only-of-type {\n",
       "        vertical-align: middle;\n",
       "    }\n",
       "\n",
       "    .dataframe tbody tr th {\n",
       "        vertical-align: top;\n",
       "    }\n",
       "\n",
       "    .dataframe thead th {\n",
       "        text-align: right;\n",
       "    }\n",
       "</style>\n",
       "<table border=\"1\" class=\"dataframe\">\n",
       "  <thead>\n",
       "    <tr style=\"text-align: right;\">\n",
       "      <th></th>\n",
       "      <th>0</th>\n",
       "      <th>1</th>\n",
       "      <th>2</th>\n",
       "      <th>3</th>\n",
       "      <th>4</th>\n",
       "      <th>5</th>\n",
       "      <th>6</th>\n",
       "      <th>7</th>\n",
       "      <th>8</th>\n",
       "      <th>9</th>\n",
       "      <th>...</th>\n",
       "      <th>990</th>\n",
       "      <th>991</th>\n",
       "      <th>992</th>\n",
       "      <th>993</th>\n",
       "      <th>994</th>\n",
       "      <th>995</th>\n",
       "      <th>996</th>\n",
       "      <th>997</th>\n",
       "      <th>998</th>\n",
       "      <th>999</th>\n",
       "    </tr>\n",
       "  </thead>\n",
       "  <tbody>\n",
       "    <tr>\n",
       "      <th>0</th>\n",
       "      <td>1.000000</td>\n",
       "      <td>1.000000</td>\n",
       "      <td>1.000000</td>\n",
       "      <td>1.000000</td>\n",
       "      <td>1.000000</td>\n",
       "      <td>1.000000</td>\n",
       "      <td>1.000000</td>\n",
       "      <td>1.000000</td>\n",
       "      <td>1.000000</td>\n",
       "      <td>1.000000</td>\n",
       "      <td>...</td>\n",
       "      <td>1.000000</td>\n",
       "      <td>1.000000</td>\n",
       "      <td>1.000000</td>\n",
       "      <td>1.000000</td>\n",
       "      <td>1.000000</td>\n",
       "      <td>1.000000</td>\n",
       "      <td>1.000000</td>\n",
       "      <td>1.000000</td>\n",
       "      <td>1.000000</td>\n",
       "      <td>1.000000</td>\n",
       "    </tr>\n",
       "    <tr>\n",
       "      <th>1</th>\n",
       "      <td>1.002785</td>\n",
       "      <td>0.973631</td>\n",
       "      <td>0.996381</td>\n",
       "      <td>0.991710</td>\n",
       "      <td>1.014709</td>\n",
       "      <td>1.011829</td>\n",
       "      <td>1.001336</td>\n",
       "      <td>1.028385</td>\n",
       "      <td>0.968927</td>\n",
       "      <td>0.962706</td>\n",
       "      <td>...</td>\n",
       "      <td>0.971682</td>\n",
       "      <td>0.982580</td>\n",
       "      <td>0.964657</td>\n",
       "      <td>0.982358</td>\n",
       "      <td>0.997626</td>\n",
       "      <td>1.030199</td>\n",
       "      <td>0.995412</td>\n",
       "      <td>0.989835</td>\n",
       "      <td>1.009949</td>\n",
       "      <td>0.984221</td>\n",
       "    </tr>\n",
       "    <tr>\n",
       "      <th>2</th>\n",
       "      <td>1.008193</td>\n",
       "      <td>0.975348</td>\n",
       "      <td>0.992211</td>\n",
       "      <td>1.024168</td>\n",
       "      <td>1.028579</td>\n",
       "      <td>1.007280</td>\n",
       "      <td>1.003977</td>\n",
       "      <td>1.034542</td>\n",
       "      <td>0.953223</td>\n",
       "      <td>0.939528</td>\n",
       "      <td>...</td>\n",
       "      <td>0.977849</td>\n",
       "      <td>1.006156</td>\n",
       "      <td>0.915584</td>\n",
       "      <td>0.989159</td>\n",
       "      <td>0.999272</td>\n",
       "      <td>1.039527</td>\n",
       "      <td>0.979563</td>\n",
       "      <td>1.021967</td>\n",
       "      <td>1.000038</td>\n",
       "      <td>0.962705</td>\n",
       "    </tr>\n",
       "    <tr>\n",
       "      <th>3</th>\n",
       "      <td>0.995937</td>\n",
       "      <td>0.970346</td>\n",
       "      <td>0.983928</td>\n",
       "      <td>1.023633</td>\n",
       "      <td>1.011091</td>\n",
       "      <td>1.014038</td>\n",
       "      <td>0.990972</td>\n",
       "      <td>1.070776</td>\n",
       "      <td>0.957750</td>\n",
       "      <td>0.938506</td>\n",
       "      <td>...</td>\n",
       "      <td>0.988889</td>\n",
       "      <td>0.990614</td>\n",
       "      <td>0.914121</td>\n",
       "      <td>0.968650</td>\n",
       "      <td>0.981449</td>\n",
       "      <td>1.062041</td>\n",
       "      <td>0.971077</td>\n",
       "      <td>1.027567</td>\n",
       "      <td>0.992527</td>\n",
       "      <td>0.980259</td>\n",
       "    </tr>\n",
       "    <tr>\n",
       "      <th>4</th>\n",
       "      <td>1.007181</td>\n",
       "      <td>0.962080</td>\n",
       "      <td>0.984869</td>\n",
       "      <td>1.043466</td>\n",
       "      <td>1.016416</td>\n",
       "      <td>1.006383</td>\n",
       "      <td>1.023880</td>\n",
       "      <td>1.075289</td>\n",
       "      <td>0.954385</td>\n",
       "      <td>0.974827</td>\n",
       "      <td>...</td>\n",
       "      <td>0.980552</td>\n",
       "      <td>0.973983</td>\n",
       "      <td>0.916069</td>\n",
       "      <td>0.953519</td>\n",
       "      <td>0.944252</td>\n",
       "      <td>1.057897</td>\n",
       "      <td>0.990670</td>\n",
       "      <td>1.005585</td>\n",
       "      <td>1.008501</td>\n",
       "      <td>0.971304</td>\n",
       "    </tr>\n",
       "  </tbody>\n",
       "</table>\n",
       "<p>5 rows × 1000 columns</p>\n",
       "</div>"
      ],
      "text/plain": [
       "        0         1         2         3         4         5         6    \\\n",
       "0  1.000000  1.000000  1.000000  1.000000  1.000000  1.000000  1.000000   \n",
       "1  1.002785  0.973631  0.996381  0.991710  1.014709  1.011829  1.001336   \n",
       "2  1.008193  0.975348  0.992211  1.024168  1.028579  1.007280  1.003977   \n",
       "3  0.995937  0.970346  0.983928  1.023633  1.011091  1.014038  0.990972   \n",
       "4  1.007181  0.962080  0.984869  1.043466  1.016416  1.006383  1.023880   \n",
       "\n",
       "        7         8         9    ...       990       991       992       993  \\\n",
       "0  1.000000  1.000000  1.000000  ...  1.000000  1.000000  1.000000  1.000000   \n",
       "1  1.028385  0.968927  0.962706  ...  0.971682  0.982580  0.964657  0.982358   \n",
       "2  1.034542  0.953223  0.939528  ...  0.977849  1.006156  0.915584  0.989159   \n",
       "3  1.070776  0.957750  0.938506  ...  0.988889  0.990614  0.914121  0.968650   \n",
       "4  1.075289  0.954385  0.974827  ...  0.980552  0.973983  0.916069  0.953519   \n",
       "\n",
       "        994       995       996       997       998       999  \n",
       "0  1.000000  1.000000  1.000000  1.000000  1.000000  1.000000  \n",
       "1  0.997626  1.030199  0.995412  0.989835  1.009949  0.984221  \n",
       "2  0.999272  1.039527  0.979563  1.021967  1.000038  0.962705  \n",
       "3  0.981449  1.062041  0.971077  1.027567  0.992527  0.980259  \n",
       "4  0.944252  1.057897  0.990670  1.005585  1.008501  0.971304  \n",
       "\n",
       "[5 rows x 1000 columns]"
      ]
     },
     "execution_count": 171,
     "metadata": {},
     "output_type": "execute_result"
    }
   ],
   "source": [
    "# Set number of simulations and trading days\n",
    "num_simulations = 1000\n",
    "num_trading_days = 252\n",
    "\n",
    "# Set last closing prices of `SPY` and `AGG`\n",
    "spy_last_price = df['SPY']['close'][-1]\n",
    "agg_last_price = df['AGG']['close'][-1]\n",
    "\n",
    "# Initialize empty DataFrame to hold simulated prices for each simulation\n",
    "simulated_price_df = pd.DataFrame()\n",
    "portfolio_cumulative_returns = pd.DataFrame()\n",
    "\n",
    "# Run the simulation of projecting stock prices for the next trading year, `1000` times\n",
    "for n in range(num_simulations):\n",
    "\n",
    "    # Initialize the simulated prices list with the last closing price of `SPY` and `AGG`\n",
    "    simulated_spy_prices = [spy_last_price]\n",
    "    simulated_agg_prices = [agg_last_price]\n",
    "    \n",
    "    # Simulate the returns for 252 days\n",
    "    for i in range(num_trading_days):\n",
    "        \n",
    "        # Calculate the simulated price using the last price within the list\n",
    "        simulated_spy_price = simulated_spy_prices[-1] * (1 + np.random.normal(avg_daily_return_spy, std_dev_daily_return_spy))\n",
    "        simulated_agg_price = simulated_agg_prices[-1] * (1 + np.random.normal(avg_daily_return_agg, std_dev_daily_return_agg))\n",
    "        \n",
    "        # Append the simulated price to the list\n",
    "        simulated_spy_prices.append(simulated_spy_price)\n",
    "        simulated_agg_prices.append(simulated_agg_price)\n",
    "    \n",
    "    # Append a simulated prices of each simulation to DataFrame\n",
    "    simulated_price_df[\"SPY prices\"] = pd.Series(simulated_spy_prices)\n",
    "    simulated_price_df[\"AGG prices\"] = pd.Series(simulated_agg_prices)\n",
    "    \n",
    "    # Calculate the daily returns of simulated prices\n",
    "    simulated_daily_returns = simulated_price_df.pct_change()\n",
    "    \n",
    "    # Set the portfolio weights (60% SPY; 40% AGG)\n",
    "    weights = [0.60, 0.40]\n",
    "\n",
    "    # Use the `dot` function with the weights to multiply weights with each column's simulated daily returns\n",
    "    portfolio_daily_returns = simulated_daily_returns.dot(weights)\n",
    "    \n",
    "    # Calculate the normalized, cumulative return series\n",
    "    portfolio_cumulative_returns[n] = (1 + portfolio_daily_returns.fillna(0)).cumprod()\n",
    "\n",
    "# Print records from the DataFrame\n",
    "portfolio_cumulative_returns.head()"
   ]
  },
  {
   "cell_type": "code",
   "execution_count": 172,
   "metadata": {},
   "outputs": [
    {
     "data": {
      "text/plain": [
       "<matplotlib.axes._subplots.AxesSubplot at 0x11aaffad0>"
      ]
     },
     "execution_count": 172,
     "metadata": {},
     "output_type": "execute_result"
    },
    {
     "data": {
      "image/png": "[encoded data removed]",
      "text/plain": [
       "<Figure size 432x288 with 1 Axes>"
      ]
     },
     "metadata": {
      "needs_background": "light"
     },
     "output_type": "display_data"
    }
   ],
   "source": [
    "# Use the `plot` function to plot `1000` simulations of the potential trajectories of the portfolio based on 252 trading days\n",
    "plot_title = f\"{n+1} Simulations of Cumulative Portfolio Return Trajectories Over the Next 252 Trading Days\"\n",
    "portfolio_cumulative_returns.plot(legend=None, title=plot_title)"
   ]
  },
  {
   "cell_type": "code",
   "execution_count": 173,
   "metadata": {},
   "outputs": [
    {
     "data": {
      "text/plain": [
       "0    0.941193\n",
       "1    0.896406\n",
       "2    0.687519\n",
       "3    0.822438\n",
       "4    0.629484\n",
       "Name: 252, dtype: float64"
      ]
     },
     "execution_count": 173,
     "metadata": {},
     "output_type": "execute_result"
    }
   ],
   "source": [
    "# Select the last row for project stock prices (prices of each simulation on the 252nd trading day)\n",
    "ending_cumulative_returns = portfolio_cumulative_returns.iloc[-1, :]\n",
    "ending_cumulative_returns.head()"
   ]
  },
  {
   "cell_type": "code",
   "execution_count": 174,
   "metadata": {},
   "outputs": [
    {
     "data": {
      "text/plain": [
       "<matplotlib.axes._subplots.AxesSubplot at 0x11a909e50>"
      ]
     },
     "execution_count": 174,
     "metadata": {},
     "output_type": "execute_result"
    },
    {
     "data": {
      "image/png": "[encoded data removed]",
      "text/plain": [
       "<Figure size 432x288 with 1 Axes>"
      ]
     },
     "metadata": {
      "needs_background": "light"
     },
     "output_type": "display_data"
    }
   ],
   "source": [
    "# Use the `plot` function to plot a frequency distribution of simulated ending prices\n",
    "ending_cumulative_returns.plot(kind='hist', bins=10)"
   ]
  },
  {
   "cell_type": "code",
   "execution_count": 175,
   "metadata": {},
   "outputs": [
    {
     "data": {
      "text/plain": [
       "(0.907, 1.092]    0.281\n",
       "(0.722, 0.907]    0.258\n",
       "(0.537, 0.722]    0.158\n",
       "(1.092, 1.277]    0.152\n",
       "(1.277, 1.462]    0.077\n",
       "(1.462, 1.647]    0.035\n",
       "(0.349, 0.537]    0.023\n",
       "(1.647, 1.832]    0.008\n",
       "(1.832, 2.017]    0.006\n",
       "(2.017, 2.202]    0.002\n",
       "Name: 252, dtype: float64"
      ]
     },
     "execution_count": 175,
     "metadata": {},
     "output_type": "execute_result"
    }
   ],
   "source": [
    "ending_cumulative_returns.value_counts(bins=10) / len(ending_cumulative_returns)"
   ]
  },
  {
   "cell_type": "code",
   "execution_count": 176,
   "metadata": {},
   "outputs": [
    {
     "data": {
      "text/plain": [
       "0.025    0.542050\n",
       "0.975    1.564359\n",
       "Name: 252, dtype: float64"
      ]
     },
     "execution_count": 176,
     "metadata": {},
     "output_type": "execute_result"
    }
   ],
   "source": [
    "# Use the `quantile` function to calculate the 95% confidence interval for simulated ending prices\n",
    "confidence_interval = ending_cumulative_returns.quantile(q=[0.025, 0.975])\n",
    "confidence_interval"
   ]
  },
  {
   "cell_type": "code",
   "execution_count": 177,
   "metadata": {},
   "outputs": [
    {
     "data": {
      "text/plain": [
       "<matplotlib.lines.Line2D at 0x11869c210>"
      ]
     },
     "execution_count": 177,
     "metadata": {},
     "output_type": "execute_result"
    },
    {
     "data": {
      "image/png": "[encoded data removed]",
      "text/plain": [
       "<Figure size 432x288 with 1 Axes>"
      ]
     },
     "metadata": {
      "needs_background": "light"
     },
     "output_type": "display_data"
    }
   ],
   "source": [
    "# Use the `plot` function to create a probability distribution histogram of simulated ending prices\n",
    "# with markings for a 95% confidence interval\n",
    "plt.figure();\n",
    "ending_cumulative_returns.plot(kind='hist', density=True, bins=10)\n",
    "plt.axvline(confidence_interval.iloc[0], color='r')\n",
    "plt.axvline(confidence_interval.iloc[1], color='r')"
   ]
  },
  {
   "cell_type": "code",
   "execution_count": 182,
   "metadata": {},
   "outputs": [
    {
     "name": "stdout",
     "output_type": "stream",
     "text": [
      "There is a 95% chance that an initial investment of $20,000 in the portfolio over the next 252 trading days will end within in the range of $30841.006584156818 and $51287.18094867475\n"
     ]
    }
   ],
   "source": [
    "# Set initial investment\n",
    "initial_investment = 20000\n",
    "\n",
    "# Calculate investment profit/loss of lower and upper bound cumulative portfolio returns\n",
    "investment_pnl_lower_bound = initial_investment + (initial_investment * confidence_interval.iloc[0])\n",
    "investment_pnl_upper_bound = initial_investment + (initial_investment * confidence_interval.iloc[1])\n",
    "                                                    \n",
    "# Print the results\n",
    "print(f\"There is a 95% chance that an initial investment of $20,000 in the portfolio\"\n",
    "      f\" over the next 252 trading days will end within in the range of\"\n",
    "      f\" ${investment_pnl_lower_bound} and ${investment_pnl_upper_bound}\")"
   ]
  },
  {
   "cell_type": "code",
   "execution_count": null,
   "metadata": {},
   "outputs": [],
   "source": []
  }
 ],
 "metadata": {
  "kernelspec": {
   "display_name": "Python 3",
   "language": "python",
   "name": "python3"
  },
  "language_info": {
   "codemirror_mode": {
    "name": "ipython",
    "version": 3
   },
   "file_extension": ".py",
   "mimetype": "text/x-python",
   "name": "python",
   "nbconvert_exporter": "python",
   "pygments_lexer": "ipython3",
   "version": "3.7.6"
  }
 },
 "nbformat": 4,
 "nbformat_minor": 4
}
